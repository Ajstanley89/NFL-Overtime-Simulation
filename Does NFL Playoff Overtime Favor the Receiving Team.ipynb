{
 "cells": [
  {
   "cell_type": "markdown",
   "id": "354d7372-82b5-45b3-b1ed-9d730b69712f",
   "metadata": {},
   "source": [
    "# NFL Overtime Simulation\n",
    "\n",
    "Historically, the NFL has used \"sudden death\" rules in playoff overtime (first score wins). As such, it was extremely advantageous to possess the ball first in overtime. A simple field goal could win the game without ever letting the opponent get the ball.\n",
    "\n",
    "In 2024, the playoff [rules](https://operations.nfl.com/the-rules/nfl-overtime-rules/) were changed to allow each team a possession at the start of overtime. If the score is tied after each team's initial posession, then the next score wins. Under these new rules, it's unclear if it's better to get the ball first or second. If you get the ball first, you get the ball again if the score is tied after the initial posessions and can win the game without the opponent going back on offense. If you get the ball second, you have more information on your drive and can use 4th downs more effectively. Let's build a simple simulation to see if either strategy is more advantageous."
   ]
  },
  {
   "cell_type": "code",
   "execution_count": 53,
   "id": "6c11cf08-3133-4469-8564-2c305e08a667",
   "metadata": {},
   "outputs": [],
   "source": [
    "import numpy as np\n",
    "import pandas as pd\n",
    "import matplotlib.pyplot as plt\n",
    "import seaborn as sns\n",
    "import os\n",
    "\n",
    "from scipy import stats\n",
    "from NFLOvertimeSim import FootballTeam, FootballGame, FootballSimulation\n",
    "from pprint import pprint\n"
   ]
  },
  {
   "cell_type": "markdown",
   "id": "f19504c0-230b-4d26-9e2e-ecda83452fd7",
   "metadata": {},
   "source": [
    "From google searching, [66% of series result in a first down](http://www.advancedfootballanalytics.com/2008/07/first-down-probability.html). To simulate plays, we're sampling random yardage results from a triangular distribution amd calculating the cumulative sum. We can define the triangluar distibution by supplying the minimum expected yards, most probable yards, and maximum expected yards for a team. This techniue is simple, but allows us to easily incorporate expert opinion. With this method, we can calculate the probability that the cumulative sum after 3 plays >= 10 (enough for a first down.) We're using 3 plays instead of 4 because most NFL teams punt or kick a field goal on 4th down.\n",
    "\n",
    "We can then tune the min, avg, and max parameters of the triangular distribution to match the expected 1st down rate in actual NFL games.\n",
    "\n",
    "To start, let's assume the minimum likely play is -15 yards (a personal foul penalty), the most likely is the league average team yards per play (6 yards), and the max likely is 25 yards (around the threshold for an \"Explosive play\")"
   ]
  },
  {
   "cell_type": "code",
   "execution_count": 49,
   "id": "dde176ee-54d3-419e-b951-3b8f6728ac4a",
   "metadata": {},
   "outputs": [
    {
     "data": {
      "text/plain": [
       "\"ax = sns.lineplot(data=df, x='sample_size', y='probability')\\nax.fill_between(df.sample_size, df.low_ci, df.high_ci, alpha=0.6)\\nplt.suptitle('Simulated First Down Sucess Rate Within 3 Downs')\\nax.set_xlabel('Number of Trials')\\nax.set_ylabel('First Down Probability')\""
      ]
     },
     "execution_count": 49,
     "metadata": {},
     "output_type": "execute_result"
    },
    {
     "data": {
      "image/png": "[encoded data removed]",
      "text/plain": [
       "<Figure size 640x480 with 1 Axes>"
      ]
     },
     "metadata": {},
     "output_type": "display_data"
    }
   ],
   "source": [
    "team = FootballTeam('team1', exp_yards=6, min_yards=-15, max_yards=25)\n",
    "n_interations = 100000\n",
    "\n",
    "np.random.seed(42)\n",
    "\n",
    "def get_wilson_interval(proportions: np.ndarray, trials: np.ndarray, confidence_level=0.95):\n",
    "    \"\"\"Implements wilson score interval for binomial distribution. \n",
    "    Wald interval has been criticized because the CI can exceed 0 or 1 when the true sucess probabilty approaches 0 or 1, or when the sample size is small.\n",
    "    Wilson score interval improves this\n",
    "    \"\"\"\n",
    "    alpha = 1 - confidence_level\n",
    "    z = stats.norm.ppf(1 - alpha / 2)\n",
    "\n",
    "    A = 1 / (1 + (z ** 2) / trials)\n",
    "    B = proportions + (z ** 2) / (2 * trials)\n",
    "    C = 4 * trials * proportions * (1 - proportions) + z ** 2\n",
    "    D = (z / (2 * trials)) * np.sqrt(C)\n",
    "\n",
    "    low_ci = A * (B - D)\n",
    "    high_ci = A * (B + D)\n",
    "\n",
    "    return low_ci, high_ci\n",
    "\n",
    "def binomial_ci(successes, trials, proportions, confidence_level=0.95):\n",
    "    low = []\n",
    "    high = []\n",
    "    for k, n, p in zip(successes, trials, proportions):\n",
    "        bt_res = stats.binomtest(k, n, p)\n",
    "        ci = bt_res.proportion_ci(confidence_level)\n",
    "        low.append(ci.low)\n",
    "        high.append(ci.high)\n",
    "\n",
    "\n",
    "    return low, high\n",
    "\n",
    "def first_down_simulation(team: FootballTeam, n_interations=100000, n_plays=3) -> np.ndarray:\n",
    "    \"\"\"Simulates a football series many times and estimates the probability of converting a first down within n_plays\"\"\"\n",
    "\n",
    "    series_yards = np.array([team.simulate_series(n_plays) for i in range(n_interations)])\n",
    "\n",
    "    sample_sizes = np.arange(1, n_interations+1)\n",
    "\n",
    "    # how many times would a team expect to gain at least 10 yards within 3 plays?\n",
    "    first_down_cumsum = np.cumsum(series_yards >= 10)\n",
    "\n",
    "    return first_down_cumsum\n",
    "\n",
    "\n",
    "def event_probability_by_samplesize(data: np.ndarray, data_are_sums: bool=True) -> pd.DataFrame:\n",
    "    \"\"\"Takes a numpy array of either event or probability cumsums. If data are sums, it will convert them to probabilities.\n",
    "    It also calculates confidence intervals per the wilson method\n",
    "\n",
    "    Returns a df of the data\n",
    "    \"\"\"\n",
    "\n",
    "    sample_sizes = np.arange(1, data.size + 1)\n",
    "\n",
    "    probabilities = data / sample_sizes if data_are_sums else data\n",
    "\n",
    "    low_ci, high_ci = get_wilson_interval(probabilities, sample_sizes)\n",
    "\n",
    "    data_dict = {'sample_size': sample_sizes,\n",
    "                'probability': probabilities,\n",
    "                'low_ci': low_ci,\n",
    "                'high_ci': high_ci}\n",
    "\n",
    "    return pd.DataFrame(data_dict)\n",
    "\n",
    "'Number of Trials', 'Average Win Percentage'\n",
    "\n",
    "def simulation_probabilty_lineplot(df: pd.DataFrame, \n",
    "                                   title: str, \n",
    "                                   x_lab: str = 'Number of Trials', \n",
    "                                   y_lab: str = 'Average Win Percentage', \n",
    "                                   x: str='sample_size', \n",
    "                                   y: str='probability'):\n",
    "    \n",
    "    \"\"\"Visualizes data from repeated monte carlo simulations by increasing sample size\"\"\"\n",
    "    sns.set_style('darkgrid')\n",
    "    ax = sns.lineplot(data=df, x='sample_size', y='probability')\n",
    "    ax.fill_between(df.sample_size, df.low_ci, df.high_ci, alpha=0.6)\n",
    "    plt.suptitle(title)\n",
    "    ax.set_xlabel(x_lab)\n",
    "    ax.set_ylabel(y_lab)\n",
    "\n",
    "    return ax\n",
    "\n",
    "    \n",
    "\n",
    "fd_cumsums = first_down_simulation(team)\n",
    "df = event_probability_by_samplesize(fd_cumsums)\n",
    "\n",
    "sns.set_style('darkgrid')\n",
    "ax = simulation_probabilty_lineplot(df, 'Simulated First Down Sucess Rate Within 3 Downs', 'Number of Trials', 'First Down Probability')\n",
    "\n",
    "\"\"\"ax = sns.lineplot(data=df, x='sample_size', y='probability')\n",
    "ax.fill_between(df.sample_size, df.low_ci, df.high_ci, alpha=0.6)\n",
    "plt.suptitle('Simulated First Down Sucess Rate Within 3 Downs')\n",
    "ax.set_xlabel('Number of Trials')\n",
    "ax.set_ylabel('First Down Probability')\"\"\""
   ]
  },
  {
   "cell_type": "code",
   "execution_count": 8,
   "id": "347da23b-dad8-4edd-9da0-4b2adca72b9f",
   "metadata": {},
   "outputs": [
    {
     "data": {
      "text/plain": [
       "2"
      ]
     },
     "execution_count": 8,
     "metadata": {},
     "output_type": "execute_result"
    }
   ],
   "source": [
    "np.arange(2).size"
   ]
  },
  {
   "cell_type": "markdown",
   "id": "831c3da7-0fa2-4389-9816-0aff295aa535",
   "metadata": {},
   "source": [
    "# Parameter Review\n",
    "Settings of -15, 6, and 25 replicate the NFL first down rate reasonably well. The simulated probability seems to stabilize at 66% after 10K trials\n",
    "\n",
    "We can experiment with other parameters later. Let's see how it simulates an actual drive. With these setting, ~61% of drives result in no points, 23% result in touchdowns, and 16% result in field goals. This also aligns with [historical NFL data](https://medium.com/@nickmartin812/nfl-probability-of-points-from-drives-part-1-cab7fc9cff0b). Let's simulate a game with these aprameters!"
   ]
  },
  {
   "cell_type": "code",
   "execution_count": 3,
   "id": "f0a47b98-34d0-4002-8280-c2a97644a457",
   "metadata": {},
   "outputs": [
    {
     "data": {
      "text/plain": [
       "points_from_play\n",
       "0    0.6158\n",
       "7    0.2249\n",
       "3    0.1593\n",
       "Name: count, dtype: float64"
      ]
     },
     "execution_count": 3,
     "metadata": {},
     "output_type": "execute_result"
    }
   ],
   "source": [
    "team = FootballTeam('team1', exp_yards=6, min_yards=-15, max_yards=25)\n",
    "\n",
    "n_drives = 10000\n",
    "for i in range(n_drives):\n",
    "    team.simulate_drive(25, False)\n",
    "\n",
    "last_plays_df = pd.concat([df.iloc[-1:, :] for df in team.get_drive_data()])\n",
    "last_plays_df.points_from_play.value_counts() / n_drives"
   ]
  },
  {
   "cell_type": "markdown",
   "id": "cffd836a-560b-45a5-8c54-51f369b89dbc",
   "metadata": {},
   "source": [
    "# Overtime Simulation Demo\n",
    "\n",
    "We're modeling an NFL drive as a random walk with the yardage gained on each play randomly drawn from the triangular distribution descibed above. Each drive will continue the team's random walk down the field until they've either scored a touchdown by reaching 100+ yards, or they reach fourth down. At fourth down, the team reaches a decision point:\n",
    "\n",
    "* If the team needs a touch down to continue the game, they always go fo it\n",
    "* If the user-defined field position and first down yardage criteria are met (default >= 45 yards field position,  <= 2 yards for first)\n",
    "* If the team is in field-goal range and don't need a touch down, they will attempt a field goal\n",
    "* If the team needs a field goal but is not in range, they will run a play\n",
    "* Otherwise, the team will punt\n",
    "\n",
    "We can also decide if the team chooses to go for 2 after a touchdown or not. This is modeled as a binary event with default sucess probability of 0.5. This will typically only be relevant for the team receiving the ball second if the first team has scored a touchdown.\n",
    "\n",
    "For future work, we could enhance the simulations where each team looks ahead to calculate win probability, but this current implementation should be good enough for now. Here's an example game:"
   ]
  },
  {
   "cell_type": "code",
   "execution_count": 54,
   "id": "1f49039f-f2e3-40ea-901c-bb534b8343de",
   "metadata": {},
   "outputs": [
    {
     "name": "stdout",
     "output_type": "stream",
     "text": [
      "{'loser': 'The Boston Wicked Tuna',\n",
      " 'losing_team_number_of_drives': 1,\n",
      " 'total_yards_losing_team': np.float64(8.216401536427739),\n",
      " 'total_yards_winning_team': np.float64(87.60027924280328),\n",
      " 'winner': 'The Vacaville Cow-tippers',\n",
      " 'winner_had_ball_first': True,\n",
      " 'winner_score': 0,\n",
      " 'winning_team_number_of_drives': 2}\n"
     ]
    }
   ],
   "source": [
    "team1 = FootballTeam('The Vacaville Cow-tippers')\n",
    "team2 = FootballTeam('The Boston Wicked Tuna', go_for_two=True)\n",
    "\n",
    "game = FootballGame(team1, team2)\n",
    "game.simulate_game()\n",
    "\n",
    "pprint(game.game_data)"
   ]
  },
  {
   "cell_type": "code",
   "execution_count": 60,
   "id": "70bd1098-52e3-47ec-8da1-180fe3a47f38",
   "metadata": {},
   "outputs": [
    {
     "data": {
      "text/plain": [
       "Power_divergenceResult(statistic=np.float64(0.8), pvalue=np.float64(0.37109336952269756))"
      ]
     },
     "execution_count": 60,
     "metadata": {},
     "output_type": "execute_result"
    }
   ],
   "source": [
    "simulation = FootballSimulation(team1_params, team2_params)\n",
    "simulation.simulate_games(20)\n",
    "\n",
    "simulation_df = simulation.summarize_df()\n",
    "simulation_df.winner_had_ball_first.value_counts\n",
    "\n",
    "win_counts = simulation_df.winner_had_ball_first.value_counts()\n",
    "stats.chisquare(win_counts)"
   ]
  },
  {
   "cell_type": "code",
   "execution_count": 59,
   "id": "b98c014c-08ad-4abd-8da9-91e8bf2876cb",
   "metadata": {},
   "outputs": [
    {
     "data": {
      "text/plain": [
       "Power_divergenceResult(statistic=np.float64(1.8), pvalue=np.float64(0.17971249487899593))"
      ]
     },
     "execution_count": 59,
     "metadata": {},
     "output_type": "execute_result"
    }
   ],
   "source": [
    "win_counts = simulation_df.winner_had_ball_first.value_counts()\n",
    "stats.chisquare(win_counts)"
   ]
  },
  {
   "cell_type": "markdown",
   "id": "def9f4c6-9095-4414-9184-a7dc446d5eeb",
   "metadata": {},
   "source": [
    "# It's Simulation Time!\n",
    "## Evenly matched teams, never go for 2\n",
    "\n",
    "Let's simulate a bunch of games with equally matched teams to see if there's an advantage to going first."
   ]
  },
  {
   "cell_type": "code",
   "execution_count": 69,
   "id": "a7c86606-069c-4491-bb1e-b40ecfb53bf1",
   "metadata": {},
   "outputs": [
    {
     "name": "stdout",
     "output_type": "stream",
     "text": [
      "Power_divergenceResult(statistic=np.float64(35.0464), pvalue=np.float64(3.2194161868684896e-09))\n"
     ]
    },
    {
     "data": {
      "image/png": "[encoded data removed]",
      "text/plain": [
       "<Figure size 640x480 with 1 Axes>"
      ]
     },
     "metadata": {},
     "output_type": "display_data"
    }
   ],
   "source": [
    "team1_params = {'name': 'receiving_team',\n",
    "                'go_for_two': False}\n",
    "\n",
    "team2_params = {'name': 'kicking_team',\n",
    "                'go_for_two': False}\n",
    "\n",
    "lineplot_titles = {'title': 'Simulated Receiving Team Overtime Win Percentage\\nOpponent Never Goes for 2 When Trailing by a Touchdown',\n",
    "                  'x_lab': 'Number of Games Simulated'}\n",
    "\n",
    "n_games = 10000\n",
    "\n",
    "def analyze_ball_first(team1_params, team2_params, lineplot_titles = {}, n_games=n_games):\n",
    "    simulation = FootballSimulation(team1_params, team2_params)\n",
    "    simulation.simulate_games(n_games)\n",
    "\n",
    "    simulation_df = simulation.summarize_df()\n",
    "\n",
    "    # chi suare test\n",
    "    win_counts = simulation_df.winner_had_ball_first.value_counts()\n",
    "    test_result = stats.chisquare(win_counts)\n",
    "\n",
    "    pprint(test_result)\n",
    "\n",
    "    ball_first_win_cumsum = simulation_df.winner_had_ball_first.cumsum()\n",
    "    win_pct_df = event_probability_by_samplesize(ball_first_win_cumsum)\n",
    "\n",
    "    ax = simulation_probabilty_lineplot(win_pct_df, **lineplot_titles)\n",
    "    ax.hlines(0.5, 0, n_games, colors='k', linestyle='--', alpha=0.7)\n",
    "\n",
    "    return win_pct_df, test_result, ax\n",
    "\n",
    "\n",
    "opp_goes_for_one_df, opp_goes_for_one_test_result, opp_goes_for_one_ax = analyze_ball_first(team1_params, team2_params, lineplot_titles)\n",
    "\n",
    "plt.savefig(os.path.join('Visualizations', 'opp_goes_for_one_plot.png'))"
   ]
  },
  {
   "cell_type": "code",
   "execution_count": 70,
   "id": "4cc3879f-30af-4592-8ad2-ce79137b92c5",
   "metadata": {},
   "outputs": [
    {
     "data": {
      "text/html": [
       "<div>\n",
       "<style scoped>\n",
       "    .dataframe tbody tr th:only-of-type {\n",
       "        vertical-align: middle;\n",
       "    }\n",
       "\n",
       "    .dataframe tbody tr th {\n",
       "        vertical-align: top;\n",
       "    }\n",
       "\n",
       "    .dataframe thead th {\n",
       "        text-align: right;\n",
       "    }\n",
       "</style>\n",
       "<table border=\"1\" class=\"dataframe\">\n",
       "  <thead>\n",
       "    <tr style=\"text-align: right;\">\n",
       "      <th></th>\n",
       "      <th>sample_size</th>\n",
       "      <th>probability</th>\n",
       "      <th>low_ci</th>\n",
       "      <th>high_ci</th>\n",
       "    </tr>\n",
       "  </thead>\n",
       "  <tbody>\n",
       "    <tr>\n",
       "      <th>9995</th>\n",
       "      <td>9996</td>\n",
       "      <td>0.529712</td>\n",
       "      <td>0.519918</td>\n",
       "      <td>0.539483</td>\n",
       "    </tr>\n",
       "    <tr>\n",
       "      <th>9996</th>\n",
       "      <td>9997</td>\n",
       "      <td>0.529659</td>\n",
       "      <td>0.519865</td>\n",
       "      <td>0.539430</td>\n",
       "    </tr>\n",
       "    <tr>\n",
       "      <th>9997</th>\n",
       "      <td>9998</td>\n",
       "      <td>0.529606</td>\n",
       "      <td>0.519813</td>\n",
       "      <td>0.539376</td>\n",
       "    </tr>\n",
       "    <tr>\n",
       "      <th>9998</th>\n",
       "      <td>9999</td>\n",
       "      <td>0.529553</td>\n",
       "      <td>0.519760</td>\n",
       "      <td>0.539323</td>\n",
       "    </tr>\n",
       "    <tr>\n",
       "      <th>9999</th>\n",
       "      <td>10000</td>\n",
       "      <td>0.529600</td>\n",
       "      <td>0.519808</td>\n",
       "      <td>0.539369</td>\n",
       "    </tr>\n",
       "  </tbody>\n",
       "</table>\n",
       "</div>"
      ],
      "text/plain": [
       "      sample_size  probability    low_ci   high_ci\n",
       "9995         9996     0.529712  0.519918  0.539483\n",
       "9996         9997     0.529659  0.519865  0.539430\n",
       "9997         9998     0.529606  0.519813  0.539376\n",
       "9998         9999     0.529553  0.519760  0.539323\n",
       "9999        10000     0.529600  0.519808  0.539369"
      ]
     },
     "execution_count": 70,
     "metadata": {},
     "output_type": "execute_result"
    }
   ],
   "source": [
    "opp_goes_for_one_df.tail()"
   ]
  },
  {
   "cell_type": "markdown",
   "id": "4ec4446e-90d5-4dbf-8894-637b8fc4f934",
   "metadata": {},
   "source": [
    "# Opponent Goes for Two if the Receiving Team Scores a TD\n",
    "\n",
    "Seems like going first provides a ~3% advantage copared to going second when the team going second never tries for 2. However, most teams won't like the idea of handing the ball back to their opponent as sudden death starts, so most would prefer to go for 2 in this situation. Let's see what that does."
   ]
  },
  {
   "cell_type": "code",
   "execution_count": 71,
   "id": "d640fe22-b3ac-4487-b533-6881275bb11c",
   "metadata": {
    "scrolled": true
   },
   "outputs": [
    {
     "name": "stdout",
     "output_type": "stream",
     "text": [
      "Power_divergenceResult(statistic=np.float64(16.9744), pvalue=np.float64(3.788723990110657e-05))\n"
     ]
    },
    {
     "data": {
      "image/png": "[encoded data removed]",
      "text/plain": [
       "<Figure size 640x480 with 1 Axes>"
      ]
     },
     "metadata": {},
     "output_type": "display_data"
    }
   ],
   "source": [
    "team1_params = {'name': 'receiving_team',\n",
    "                'go_for_two': False}\n",
    "\n",
    "team2_params = {'name': 'kicking_team',\n",
    "                'go_for_two': True}\n",
    "\n",
    "lineplot_titles = {'title': 'Simulated Receiving Team Overtime Win Percentage\\nOpponent Goes for 2 When Trailing By Touchdown',\n",
    "                  'x_lab': 'Number of Games Simulated'}\n",
    "\n",
    "n_games = 10000\n",
    "\n",
    "opp_goes_for_two_win_pct_df, opp_goes_for_two_test_result, opp_goes_for_two_ax = analyze_ball_first(team1_params, team2_params, lineplot_titles)\n",
    "plt.savefig(os.path.join('Visualizations', 'opp_goes_for_two_plot.png'))"
   ]
  },
  {
   "cell_type": "code",
   "execution_count": 72,
   "id": "4f48dc8c-e87f-4e70-9fa7-e9a2f6d7d55e",
   "metadata": {},
   "outputs": [
    {
     "data": {
      "text/html": [
       "<div>\n",
       "<style scoped>\n",
       "    .dataframe tbody tr th:only-of-type {\n",
       "        vertical-align: middle;\n",
       "    }\n",
       "\n",
       "    .dataframe tbody tr th {\n",
       "        vertical-align: top;\n",
       "    }\n",
       "\n",
       "    .dataframe thead th {\n",
       "        text-align: right;\n",
       "    }\n",
       "</style>\n",
       "<table border=\"1\" class=\"dataframe\">\n",
       "  <thead>\n",
       "    <tr style=\"text-align: right;\">\n",
       "      <th></th>\n",
       "      <th>winner</th>\n",
       "      <th>loser</th>\n",
       "      <th>winner_score</th>\n",
       "      <th>winner_had_ball_first</th>\n",
       "      <th>winning_team_number_of_drives</th>\n",
       "      <th>losing_team_number_of_drives</th>\n",
       "      <th>total_yards_winning_team</th>\n",
       "      <th>total_yards_losing_team</th>\n",
       "    </tr>\n",
       "  </thead>\n",
       "  <tbody>\n",
       "    <tr>\n",
       "      <th>9995</th>\n",
       "      <td>receiving_team</td>\n",
       "      <td>kicking_team</td>\n",
       "      <td>6</td>\n",
       "      <td>True</td>\n",
       "      <td>1</td>\n",
       "      <td>1</td>\n",
       "      <td>80.539757</td>\n",
       "      <td>87.166095</td>\n",
       "    </tr>\n",
       "    <tr>\n",
       "      <th>9996</th>\n",
       "      <td>receiving_team</td>\n",
       "      <td>kicking_team</td>\n",
       "      <td>0</td>\n",
       "      <td>True</td>\n",
       "      <td>1</td>\n",
       "      <td>1</td>\n",
       "      <td>80.713775</td>\n",
       "      <td>9.349850</td>\n",
       "    </tr>\n",
       "    <tr>\n",
       "      <th>9997</th>\n",
       "      <td>kicking_team</td>\n",
       "      <td>receiving_team</td>\n",
       "      <td>0</td>\n",
       "      <td>False</td>\n",
       "      <td>1</td>\n",
       "      <td>1</td>\n",
       "      <td>34.865096</td>\n",
       "      <td>27.588376</td>\n",
       "    </tr>\n",
       "    <tr>\n",
       "      <th>9998</th>\n",
       "      <td>receiving_team</td>\n",
       "      <td>kicking_team</td>\n",
       "      <td>0</td>\n",
       "      <td>True</td>\n",
       "      <td>1</td>\n",
       "      <td>1</td>\n",
       "      <td>79.558132</td>\n",
       "      <td>16.466988</td>\n",
       "    </tr>\n",
       "    <tr>\n",
       "      <th>9999</th>\n",
       "      <td>kicking_team</td>\n",
       "      <td>receiving_team</td>\n",
       "      <td>0</td>\n",
       "      <td>False</td>\n",
       "      <td>1</td>\n",
       "      <td>1</td>\n",
       "      <td>60.931178</td>\n",
       "      <td>-19.022755</td>\n",
       "    </tr>\n",
       "  </tbody>\n",
       "</table>\n",
       "</div>"
      ],
      "text/plain": [
       "              winner           loser  winner_score  ...  losing_team_number_of_drives  total_yards_winning_team  total_yards_losing_team\n",
       "9995  receiving_team    kicking_team             6  ...                             1                 80.539757                87.166095\n",
       "9996  receiving_team    kicking_team             0  ...                             1                 80.713775                 9.349850\n",
       "9997    kicking_team  receiving_team             0  ...                             1                 34.865096                27.588376\n",
       "9998  receiving_team    kicking_team             0  ...                             1                 79.558132                16.466988\n",
       "9999    kicking_team  receiving_team             0  ...                             1                 60.931178               -19.022755\n",
       "\n",
       "[5 rows x 8 columns]"
      ]
     },
     "execution_count": 72,
     "metadata": {},
     "output_type": "execute_result"
    }
   ],
   "source": [
    "opp_goes_for_two_df.tail()"
   ]
  },
  {
   "cell_type": "code",
   "execution_count": 73,
   "id": "3d80ea90-b12d-4f6a-be83-4e7926a9f54c",
   "metadata": {},
   "outputs": [
    {
     "data": {
      "text/html": [
       "<div>\n",
       "<style scoped>\n",
       "    .dataframe tbody tr th:only-of-type {\n",
       "        vertical-align: middle;\n",
       "    }\n",
       "\n",
       "    .dataframe tbody tr th {\n",
       "        vertical-align: top;\n",
       "    }\n",
       "\n",
       "    .dataframe thead th {\n",
       "        text-align: right;\n",
       "    }\n",
       "</style>\n",
       "<table border=\"1\" class=\"dataframe\">\n",
       "  <thead>\n",
       "    <tr style=\"text-align: right;\">\n",
       "      <th></th>\n",
       "      <th>sample_size</th>\n",
       "      <th>probability</th>\n",
       "      <th>low_ci</th>\n",
       "      <th>high_ci</th>\n",
       "    </tr>\n",
       "  </thead>\n",
       "  <tbody>\n",
       "    <tr>\n",
       "      <th>9995</th>\n",
       "      <td>9996</td>\n",
       "      <td>0.520508</td>\n",
       "      <td>0.510709</td>\n",
       "      <td>0.530292</td>\n",
       "    </tr>\n",
       "    <tr>\n",
       "      <th>9996</th>\n",
       "      <td>9997</td>\n",
       "      <td>0.520556</td>\n",
       "      <td>0.510757</td>\n",
       "      <td>0.530339</td>\n",
       "    </tr>\n",
       "    <tr>\n",
       "      <th>9997</th>\n",
       "      <td>9998</td>\n",
       "      <td>0.520604</td>\n",
       "      <td>0.510806</td>\n",
       "      <td>0.530387</td>\n",
       "    </tr>\n",
       "    <tr>\n",
       "      <th>9998</th>\n",
       "      <td>9999</td>\n",
       "      <td>0.520652</td>\n",
       "      <td>0.510854</td>\n",
       "      <td>0.530434</td>\n",
       "    </tr>\n",
       "    <tr>\n",
       "      <th>9999</th>\n",
       "      <td>10000</td>\n",
       "      <td>0.520600</td>\n",
       "      <td>0.510802</td>\n",
       "      <td>0.530382</td>\n",
       "    </tr>\n",
       "  </tbody>\n",
       "</table>\n",
       "</div>"
      ],
      "text/plain": [
       "      sample_size  probability    low_ci   high_ci\n",
       "9995         9996     0.520508  0.510709  0.530292\n",
       "9996         9997     0.520556  0.510757  0.530339\n",
       "9997         9998     0.520604  0.510806  0.530387\n",
       "9998         9999     0.520652  0.510854  0.530434\n",
       "9999        10000     0.520600  0.510802  0.530382"
      ]
     },
     "execution_count": 73,
     "metadata": {},
     "output_type": "execute_result"
    }
   ],
   "source": [
    "opp_goes_for_two_win_pct_df.tail()"
   ]
  },
  {
   "cell_type": "markdown",
   "id": "8d6d3b09-6e05-46dd-9c5e-85c682878c10",
   "metadata": {},
   "source": [
    "# Conclusion\n",
    "\n",
    "Given two identical teams playing eachother in the NFL's new playoff rules, the team receiving the ball first has a small but statistically significant advantage. If the opponent never goes for two points in response to an opening drive touchdown, the team receiving the ball first would expect a 3% increase in win probability compared to flipping a coin. \n",
    "\n",
    "If the opponent scores a touchdown and attempts a 2pt coversion with 50% sucess rate, the ball-first team still would expect a 2% increase in win probaility compared to flipping a coin. Both these increases were statistically significant at the 95% confidence interval.\n",
    "\n",
    "# Future work\n",
    "* Add effects of explosive plays to drives. These plays accoutn for <10% of all NFL plays.\n",
    "* Account for team defenses\n",
    "* Model penalties seperately from the expected play sampling\n",
    "* Add Mahomes/Refs effect"
   ]
  },
  {
   "cell_type": "code",
   "execution_count": null,
   "id": "929da043-7ffe-4895-8849-fc02c2ca64a1",
   "metadata": {},
   "outputs": [],
   "source": []
  }
 ],
 "metadata": {
  "kernelspec": {
   "display_name": "Python 3 (ipykernel)",
   "language": "python",
   "name": "python3"
  },
  "language_info": {
   "codemirror_mode": {
    "name": "ipython",
    "version": 3
   },
   "file_extension": ".py",
   "mimetype": "text/x-python",
   "name": "python",
   "nbconvert_exporter": "python",
   "pygments_lexer": "ipython3",
   "version": "3.13.1"
  }
 },
 "nbformat": 4,
 "nbformat_minor": 5
}
